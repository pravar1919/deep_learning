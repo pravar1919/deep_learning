{
 "cells": [
  {
   "cell_type": "code",
   "execution_count": 1,
   "id": "362667b7-0792-48ec-939b-e066bae2f4cb",
   "metadata": {},
   "outputs": [],
   "source": [
    "# Tensorflow loss value example\n",
    "# 1. sparse_categorical_crossentropy\n",
    "# 2. binary_crossentropy\n",
    "# 3. categorical_crossentropy\n",
    "# 4. mean_absolute_error\n",
    "# 5. mean_squared_error"
   ]
  },
  {
   "cell_type": "code",
   "execution_count": 3,
   "id": "33e00c43-5d47-4ad8-8cfb-4e1307cc922c",
   "metadata": {},
   "outputs": [],
   "source": [
    "# error_1 = abs(y_actual_1 - y_predicted_1)\n",
    "# error_2 = abs(y_actual_2 - y_predicted_2)\n",
    "# .\n",
    "# .\n",
    "# error_n = abs(y_actual_n - y_predicted_n)\n",
    "\n",
    "# mean_absolute_error = mean(error_1 + error_2 + . . . . + error_n) Cost Function\n"
   ]
  },
  {
   "cell_type": "code",
   "execution_count": 4,
   "id": "5c2cfa70-c1cd-4c1f-98dd-2d7eb21953e5",
   "metadata": {},
   "outputs": [],
   "source": [
    "import numpy as np"
   ]
  },
  {
   "cell_type": "code",
   "execution_count": 5,
   "id": "c813bc2e-0bca-4141-bc2e-175df1de44a4",
   "metadata": {},
   "outputs": [],
   "source": [
    "y_predicted = np.array([1, 1, 0, 0, 1])\n",
    "y_true = np.array([0.30, 0.7, 1, 0, 0.5])"
   ]
  },
  {
   "cell_type": "code",
   "execution_count": 15,
   "id": "2a6ba30a-af86-413c-b690-7cf02e19645f",
   "metadata": {},
   "outputs": [
    {
     "name": "stdout",
     "output_type": "stream",
     "text": [
      "2.5\n"
     ]
    },
    {
     "data": {
      "text/plain": [
       "0.5"
      ]
     },
     "execution_count": 15,
     "metadata": {},
     "output_type": "execute_result"
    }
   ],
   "source": [
    "def mea(y_predicted, y_true):\n",
    "    total = 0\n",
    "    for yp, yt in zip(y_predicted, y_true):\n",
    "        total += abs(yt-yp)\n",
    "    print(total)\n",
    "    mea = total / len(y_true)\n",
    "    return mea\n",
    "\n",
    "\n",
    "mea(y_predicted, y_true)"
   ]
  },
  {
   "cell_type": "code",
   "execution_count": 10,
   "id": "eca31c80-d9a5-4bd8-89c9-adc2841e41aa",
   "metadata": {},
   "outputs": [],
   "source": [
    "# using numpy"
   ]
  },
  {
   "cell_type": "code",
   "execution_count": 16,
   "id": "bf37af20-09ae-4784-b15a-7d2466e76867",
   "metadata": {},
   "outputs": [
    {
     "data": {
      "text/plain": [
       "0.5"
      ]
     },
     "execution_count": 16,
     "metadata": {},
     "output_type": "execute_result"
    }
   ],
   "source": [
    "np.mean(np.abs(y_true - y_predicted))"
   ]
  },
  {
   "cell_type": "code",
   "execution_count": 18,
   "id": "5bcc3fbc-c9c3-46e1-ba64-38faf2ecb5aa",
   "metadata": {},
   "outputs": [],
   "source": [
    "# Loss or binary cross entropy\n",
    "# formula = mean(y_true*log(y_predicted) + (1 - y_true) * log(1 - y_predicted))"
   ]
  },
  {
   "cell_type": "code",
   "execution_count": 19,
   "id": "2dbe871a-3006-4282-9587-dea69e996e06",
   "metadata": {},
   "outputs": [
    {
     "name": "stderr",
     "output_type": "stream",
     "text": [
      "/tmp/ipykernel_11615/2933082444.py:1: RuntimeWarning: divide by zero encountered in log\n",
      "  np.log(0)\n"
     ]
    },
    {
     "data": {
      "text/plain": [
       "-inf"
      ]
     },
     "execution_count": 19,
     "metadata": {},
     "output_type": "execute_result"
    }
   ],
   "source": [
    "np.log(0)"
   ]
  },
  {
   "cell_type": "code",
   "execution_count": 20,
   "id": "b0d1974d-bf85-459d-a9f5-07f581b9af1a",
   "metadata": {},
   "outputs": [
    {
     "data": {
      "text/plain": [
       "0.0"
      ]
     },
     "execution_count": 20,
     "metadata": {},
     "output_type": "execute_result"
    }
   ],
   "source": [
    "np.log(1)"
   ]
  },
  {
   "cell_type": "code",
   "execution_count": 21,
   "id": "3fbb32e1-b4fd-4539-941f-b6d0590b97a8",
   "metadata": {},
   "outputs": [],
   "source": [
    "# since log(0) is -inf and log(1) is 0 so we will take the nearest values of these two elements."
   ]
  },
  {
   "cell_type": "code",
   "execution_count": 22,
   "id": "49153960-6a38-4c10-bc08-19c3e9f68b8d",
   "metadata": {},
   "outputs": [
    {
     "data": {
      "text/plain": [
       "-43.74911676688687"
      ]
     },
     "execution_count": 22,
     "metadata": {},
     "output_type": "execute_result"
    }
   ],
   "source": [
    "np.log(0.0000000000000000001)"
   ]
  },
  {
   "cell_type": "code",
   "execution_count": 25,
   "id": "01499f77-3504-4d49-b640-0cd042675bee",
   "metadata": {},
   "outputs": [
    {
     "data": {
      "text/plain": [
       "-1.000000082790371e-10"
      ]
     },
     "execution_count": 25,
     "metadata": {},
     "output_type": "execute_result"
    }
   ],
   "source": [
    "np.log(0.9999999999)"
   ]
  },
  {
   "cell_type": "code",
   "execution_count": 26,
   "id": "2a93edb4-92fd-4168-bc51-4098a865e003",
   "metadata": {},
   "outputs": [],
   "source": [
    "epsilon = 1e-15"
   ]
  },
  {
   "cell_type": "code",
   "execution_count": 27,
   "id": "3388a9f4-e94f-4a09-aad3-a8d32c7bf182",
   "metadata": {},
   "outputs": [
    {
     "data": {
      "text/plain": [
       "[1, 1, 1e-15, 1e-15, 1]"
      ]
     },
     "execution_count": 27,
     "metadata": {},
     "output_type": "execute_result"
    }
   ],
   "source": [
    "y_predicted_new = [max(i, epsilon) for i in y_predicted]\n",
    "y_predicted_new"
   ]
  },
  {
   "cell_type": "code",
   "execution_count": 28,
   "id": "5007af79-7067-4207-9091-4fd130c43d6c",
   "metadata": {},
   "outputs": [
    {
     "data": {
      "text/plain": [
       "[0.999999999999999, 0.999999999999999, 1e-15, 1e-15, 0.999999999999999]"
      ]
     },
     "execution_count": 28,
     "metadata": {},
     "output_type": "execute_result"
    }
   ],
   "source": [
    "y_predicted_new = [min(i, (1- epsilon)) for i in y_predicted_new]\n",
    "y_predicted_new"
   ]
  },
  {
   "cell_type": "code",
   "execution_count": 29,
   "id": "37fcec97-12bb-4ce1-a6dc-8ee4d79becd3",
   "metadata": {},
   "outputs": [
    {
     "data": {
      "text/plain": [
       "array([-9.99200722e-16, -9.99200722e-16, -3.45387764e+01, -3.45387764e+01,\n",
       "       -9.99200722e-16])"
      ]
     },
     "execution_count": 29,
     "metadata": {},
     "output_type": "execute_result"
    }
   ],
   "source": [
    "np.log(y_predicted_new)"
   ]
  },
  {
   "cell_type": "code",
   "execution_count": 30,
   "id": "9f431ec7-8e67-4b07-bad2-25d4eb304a59",
   "metadata": {},
   "outputs": [
    {
     "name": "stderr",
     "output_type": "stream",
     "text": [
      "/tmp/ipykernel_11615/815880036.py:1: RuntimeWarning: divide by zero encountered in log\n",
      "  np.log(y_predicted)\n"
     ]
    },
    {
     "data": {
      "text/plain": [
       "array([  0.,   0., -inf, -inf,   0.])"
      ]
     },
     "execution_count": 30,
     "metadata": {},
     "output_type": "execute_result"
    }
   ],
   "source": [
    "np.log(y_predicted)"
   ]
  },
  {
   "cell_type": "code",
   "execution_count": null,
   "id": "f161cf39-4aa8-4127-a696-9690136fa610",
   "metadata": {},
   "outputs": [],
   "source": []
  },
  {
   "cell_type": "code",
   "execution_count": 31,
   "id": "8e65e9e5-4396-47b7-87ea-eb0384e7cbb3",
   "metadata": {},
   "outputs": [],
   "source": [
    "# Mean Square Error\n",
    "# error = abs((y_true - y_predicted) ** 2)\n",
    "# mse = mean(error1 + error2 .....)"
   ]
  },
  {
   "cell_type": "code",
   "execution_count": 32,
   "id": "8b349d11-1079-4ff0-8dc5-4a5399ffda12",
   "metadata": {},
   "outputs": [
    {
     "name": "stdout",
     "output_type": "stream",
     "text": [
      "1.83\n"
     ]
    },
    {
     "data": {
      "text/plain": [
       "0.366"
      ]
     },
     "execution_count": 32,
     "metadata": {},
     "output_type": "execute_result"
    }
   ],
   "source": [
    "def mea(y_predicted, y_true):\n",
    "    total = 0\n",
    "    for yp, yt in zip(y_predicted, y_true):\n",
    "        total += abs((yt-yp) **2)\n",
    "    print(total)\n",
    "    mea = total / len(y_true)\n",
    "    return mea\n",
    "\n",
    "\n",
    "mea(y_predicted, y_true)"
   ]
  },
  {
   "cell_type": "code",
   "execution_count": 34,
   "id": "e282602c-6bad-4cb9-b656-889b4142abff",
   "metadata": {},
   "outputs": [
    {
     "data": {
      "text/plain": [
       "0.366"
      ]
     },
     "execution_count": 34,
     "metadata": {},
     "output_type": "execute_result"
    }
   ],
   "source": [
    "np.mean((y_true - y_predicted) ** 2)"
   ]
  },
  {
   "cell_type": "code",
   "execution_count": null,
   "id": "cd25bd0e-093c-458e-895b-7b2f08f82d69",
   "metadata": {},
   "outputs": [],
   "source": []
  }
 ],
 "metadata": {
  "kernelspec": {
   "display_name": "Python 3 (ipykernel)",
   "language": "python",
   "name": "python3"
  },
  "language_info": {
   "codemirror_mode": {
    "name": "ipython",
    "version": 3
   },
   "file_extension": ".py",
   "mimetype": "text/x-python",
   "name": "python",
   "nbconvert_exporter": "python",
   "pygments_lexer": "ipython3",
   "version": "3.10.12"
  }
 },
 "nbformat": 4,
 "nbformat_minor": 5
}
