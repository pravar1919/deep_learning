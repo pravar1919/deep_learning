{
 "cells": [
  {
   "cell_type": "code",
   "execution_count": 1,
   "id": "188e2141-f4ed-4d83-a58a-74e3f73332c2",
   "metadata": {},
   "outputs": [],
   "source": [
    "import numpy as np"
   ]
  },
  {
   "cell_type": "code",
   "execution_count": 2,
   "id": "d6822da6-6fc3-4fa8-a988-e22b591ea033",
   "metadata": {},
   "outputs": [],
   "source": [
    "# revenue in USD\n",
    "revenue = np.array([[200, 220, 250], [68, 79, 105], [110, 140, 180], [80, 85, 90]])"
   ]
  },
  {
   "cell_type": "code",
   "execution_count": 7,
   "id": "d7049eec-92ec-49ba-a9ff-175215055829",
   "metadata": {},
   "outputs": [
    {
     "data": {
      "text/plain": [
       "array([[15000, 16500, 18750],\n",
       "       [ 5100,  5925,  7875],\n",
       "       [ 8250, 10500, 13500],\n",
       "       [ 6000,  6375,  6750]])"
      ]
     },
     "execution_count": 7,
     "metadata": {},
     "output_type": "execute_result"
    }
   ],
   "source": [
    "# to convert usd to INR where 1USD = 75INR\n",
    "converted_price = revenue * 75\n",
    "converted_price"
   ]
  },
  {
   "cell_type": "code",
   "execution_count": 8,
   "id": "0b274ef8-605b-4d56-8e1c-babdede18306",
   "metadata": {},
   "outputs": [
    {
     "data": {
      "text/plain": [
       "array([75])"
      ]
     },
     "execution_count": 8,
     "metadata": {},
     "output_type": "execute_result"
    }
   ],
   "source": [
    "np.array([75])"
   ]
  },
  {
   "cell_type": "code",
   "execution_count": 9,
   "id": "e0433c72-ba6f-4504-8396-fc290e24f8e5",
   "metadata": {},
   "outputs": [
    {
     "data": {
      "text/plain": [
       "array([[15000, 16500, 18750],\n",
       "       [ 5100,  5925,  7875],\n",
       "       [ 8250, 10500, 13500],\n",
       "       [ 6000,  6375,  6750]])"
      ]
     },
     "execution_count": 9,
     "metadata": {},
     "output_type": "execute_result"
    }
   ],
   "source": [
    "np.multiply(revenue, 75)"
   ]
  },
  {
   "cell_type": "code",
   "execution_count": null,
   "id": "2852d931-1bd3-4a47-b192-923a5b87ecb5",
   "metadata": {},
   "outputs": [],
   "source": [
    "unit_sold = np.array([[50, 60, 25], [10, 13, 5], [42, 140, 180], [80, 85, 90]])"
   ]
  }
 ],
 "metadata": {
  "kernelspec": {
   "display_name": "Python 3 (ipykernel)",
   "language": "python",
   "name": "python3"
  },
  "language_info": {
   "codemirror_mode": {
    "name": "ipython",
    "version": 3
   },
   "file_extension": ".py",
   "mimetype": "text/x-python",
   "name": "python",
   "nbconvert_exporter": "python",
   "pygments_lexer": "ipython3",
   "version": "3.10.12"
  }
 },
 "nbformat": 4,
 "nbformat_minor": 5
}
